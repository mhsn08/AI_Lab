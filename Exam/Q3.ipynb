{
 "cells": [
  {
   "cell_type": "code",
   "execution_count": 1,
   "id": "19a0d954-88ad-4c11-a785-cdfdf5225fb3",
   "metadata": {},
   "outputs": [],
   "source": [
    "import random"
   ]
  },
  {
   "cell_type": "code",
   "execution_count": 38,
   "id": "994b1fea-5ce3-40be-8098-34086a65926a",
   "metadata": {},
   "outputs": [],
   "source": [
    "class chromosome:\n",
    "    def __init__(self,n):\n",
    "        self.n = n\n",
    "        self.p_values = []                                              # Possible Values in a puzzle\n",
    "        for i in range(n*n):\n",
    "            self.p_values.append(i)\n",
    "    \n",
    "    def generate_chromosome(self):\n",
    "        self.p = []\n",
    "        temp = self.p_values[:]\n",
    "        for i in range(self.n):\n",
    "            self.p.append([])\n",
    "            for j in range(self.n):\n",
    "                temp1 = temp[random.randint(0,len(temp)-1)]\n",
    "                self.p[i].append(temp1)\n",
    "                temp.remove(temp1)\n",
    "                \n",
    "    def chk_greater(self,row,column):                       # This will check the values that are smaller then the value at position row,column\n",
    "        count = 0\n",
    "        for i in range(row,self.n):\n",
    "            for j in range(self.n):\n",
    "                if(i == row and j <= column):\n",
    "                    continue\n",
    "                if(self.p[i][j] == 0):\n",
    "                    continue\n",
    "                if(self.p[i][j] < self.p[row][column]):\n",
    "                    count += 1\n",
    "        return count\n",
    "                \n",
    "    def fitness(self):\n",
    "        self.fit = 0\n",
    "        for i in range(self.n):\n",
    "            for j in range(self.n):\n",
    "                self.fit += self.chk_greater(i,j)"
   ]
  },
  {
   "cell_type": "code",
   "execution_count": 39,
   "id": "83c85740-68cc-4a8c-8d0b-6c30d5a953e5",
   "metadata": {},
   "outputs": [],
   "source": [
    "c = chromosome(3)"
   ]
  },
  {
   "cell_type": "code",
   "execution_count": 48,
   "id": "9f4a9947-c104-4445-a5d8-04bc978aabe5",
   "metadata": {},
   "outputs": [],
   "source": [
    "c.generate_chromosome()"
   ]
  },
  {
   "cell_type": "code",
   "execution_count": 49,
   "id": "d05790e9-11c9-4b0f-8575-28ba5810a1c0",
   "metadata": {},
   "outputs": [
    {
     "data": {
      "text/plain": [
       "[[3, 7, 5], [1, 2, 0], [8, 6, 4]]"
      ]
     },
     "execution_count": 49,
     "metadata": {},
     "output_type": "execute_result"
    }
   ],
   "source": [
    "c.p"
   ]
  },
  {
   "cell_type": "code",
   "execution_count": 28,
   "id": "33014e59-7dc4-49c0-907d-2babcb2e87ba",
   "metadata": {},
   "outputs": [],
   "source": [
    "# 0 Means empty space"
   ]
  },
  {
   "cell_type": "code",
   "execution_count": 50,
   "id": "c98371a3-d021-4085-99cd-46aec1e06e66",
   "metadata": {},
   "outputs": [],
   "source": [
    "c.fitness()"
   ]
  },
  {
   "cell_type": "code",
   "execution_count": 51,
   "id": "aee09240-647f-45ad-aa60-d4c0346db48f",
   "metadata": {},
   "outputs": [
    {
     "data": {
      "text/plain": [
       "13"
      ]
     },
     "execution_count": 51,
     "metadata": {},
     "output_type": "execute_result"
    }
   ],
   "source": [
    "c.fit"
   ]
  },
  {
   "cell_type": "code",
   "execution_count": 94,
   "id": "d3762114-e170-4aca-aca2-8dc3aa87719b",
   "metadata": {},
   "outputs": [],
   "source": [
    "# Fitness should be zero for reaching the goal"
   ]
  },
  {
   "cell_type": "code",
   "execution_count": 37,
   "id": "043ad843-ee9a-4760-9f92-18b8f58c401d",
   "metadata": {},
   "outputs": [
    {
     "data": {
      "text/plain": [
       "0"
      ]
     },
     "execution_count": 37,
     "metadata": {},
     "output_type": "execute_result"
    }
   ],
   "source": [
    "c.p = [[0,1,2],[3,4,5],[6,7,8]]\n",
    "c.fitness()\n",
    "c.fit"
   ]
  },
  {
   "cell_type": "code",
   "execution_count": null,
   "id": "d3011cc6-57b5-4091-8d62-3b696dc44936",
   "metadata": {},
   "outputs": [],
   "source": []
  }
 ],
 "metadata": {
  "kernelspec": {
   "display_name": "Python 3 (ipykernel)",
   "language": "python",
   "name": "python3"
  },
  "language_info": {
   "codemirror_mode": {
    "name": "ipython",
    "version": 3
   },
   "file_extension": ".py",
   "mimetype": "text/x-python",
   "name": "python",
   "nbconvert_exporter": "python",
   "pygments_lexer": "ipython3",
   "version": "3.9.13"
  }
 },
 "nbformat": 4,
 "nbformat_minor": 5
}
