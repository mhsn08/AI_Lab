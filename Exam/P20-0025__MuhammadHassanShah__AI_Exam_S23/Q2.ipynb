{
 "cells": [
  {
   "cell_type": "code",
   "execution_count": 43,
   "id": "574545eb-a9f1-4df8-8eed-84ff1696114e",
   "metadata": {},
   "outputs": [],
   "source": [
    "class Elevator:\n",
    "    def __init__(self,max_capacity,num_floors):\n",
    "        self.state = 0                    # Ground Floor\n",
    "        self.capacity = 0\n",
    "        self.max_capacity = max_capacity\n",
    "        self.moving = True\n",
    "        self.num_floors = num_floors\n",
    "        \n",
    "    def move_to_floor(self,floor_number):\n",
    "        if(self.state == floor_number):\n",
    "            return\n",
    "        elif(self.state > floor_number and self.moving == True):\n",
    "            while self.state != floor_number:\n",
    "                self.state -= 1\n",
    "        elif(self.moving == True):\n",
    "            while self.state != floor_number:\n",
    "                self.state += 1\n",
    "    \n",
    "    def check_capacity(self):\n",
    "        if(self.capacity > self.max_capacity):\n",
    "            return False\n",
    "        else:\n",
    "            return True\n",
    "    \n",
    "    def add_passenger(self):\n",
    "        if(self.check_capacity() == True):\n",
    "            self.capacity += 1\n",
    "        else:\n",
    "            print(\"Capacity Full\")\n",
    "        \n",
    "    def remove_passenger(self):\n",
    "        self.capacity -= 1\n",
    "    \n",
    "    def emergency_stop(self):\n",
    "        self.moving = False\n",
    "        \n",
    "    def back_to_normal(self):\n",
    "        self.moving = True\n",
    "        \n",
    "    def oper(self):\n",
    "        print(\"Press E for emergency stop:\")\n",
    "        print(\"Press F for elevator being functional again:\")\n",
    "        print(\"Press any floor Number in range 0 to\",self.num_floors)\n",
    "        print(\"Press N for new pessenger:\")\n",
    "        print(\"Press R to remove pessenger:\")\n",
    "        print(\"Press C to show current Floor\")\n",
    "        inp = input(\"Press:\")\n",
    "        try:\n",
    "            inp = int(inp)\n",
    "            if(inp > self.num_floors or inp < 0):\n",
    "                print(\"Wrong Floor Entered\")\n",
    "                return False\n",
    "            else:\n",
    "                self.move_to_floor(inp)\n",
    "                return True\n",
    "        except:\n",
    "            if(inp == 'E' or inp == 'e'):\n",
    "                self.emergency_stop()\n",
    "                return True\n",
    "            elif(inp == 'F' or inp == 'f'):\n",
    "                self.back_to_normal()\n",
    "                return True\n",
    "            elif(inp == 'N' or inp == 'n'):\n",
    "                self.add_passenger()\n",
    "                return True\n",
    "            elif(inp == 'R' or inp == 'r'):\n",
    "                self.remove_passenger()\n",
    "                return True\n",
    "            elif(inp == 'C' or inp == 'c'):\n",
    "                print(self.state)\n",
    "                return True\n",
    "            else:\n",
    "                return False\n"
   ]
  },
  {
   "cell_type": "code",
   "execution_count": 40,
   "id": "02089e20-b5d8-4774-808b-61769319a943",
   "metadata": {},
   "outputs": [],
   "source": [
    "e = Elevator(10,10)"
   ]
  },
  {
   "cell_type": "code",
   "execution_count": 41,
   "id": "4c2610a2-b7f9-42b9-946b-31c771de6b29",
   "metadata": {},
   "outputs": [
    {
     "name": "stdout",
     "output_type": "stream",
     "text": [
      "Press E for emergency stop:\n",
      "Press F for elevator being functional again:\n",
      "Press any floor Number in range 0 to 10\n",
      "Press N for new pessenger:\n",
      "Press R to remove pessenger:\n",
      "Press C to show current Floor\n"
     ]
    },
    {
     "name": "stdin",
     "output_type": "stream",
     "text": [
      "Press: n\n"
     ]
    },
    {
     "name": "stdout",
     "output_type": "stream",
     "text": [
      "Press E for emergency stop:\n",
      "Press F for elevator being functional again:\n",
      "Press any floor Number in range 0 to 10\n",
      "Press N for new pessenger:\n",
      "Press R to remove pessenger:\n",
      "Press C to show current Floor\n"
     ]
    },
    {
     "name": "stdin",
     "output_type": "stream",
     "text": [
      "Press: n\n"
     ]
    },
    {
     "name": "stdout",
     "output_type": "stream",
     "text": [
      "Press E for emergency stop:\n",
      "Press F for elevator being functional again:\n",
      "Press any floor Number in range 0 to 10\n",
      "Press N for new pessenger:\n",
      "Press R to remove pessenger:\n",
      "Press C to show current Floor\n"
     ]
    },
    {
     "name": "stdin",
     "output_type": "stream",
     "text": [
      "Press: n\n"
     ]
    },
    {
     "name": "stdout",
     "output_type": "stream",
     "text": [
      "Press E for emergency stop:\n",
      "Press F for elevator being functional again:\n",
      "Press any floor Number in range 0 to 10\n",
      "Press N for new pessenger:\n",
      "Press R to remove pessenger:\n",
      "Press C to show current Floor\n"
     ]
    },
    {
     "name": "stdin",
     "output_type": "stream",
     "text": [
      "Press: n\n"
     ]
    },
    {
     "name": "stdout",
     "output_type": "stream",
     "text": [
      "Press E for emergency stop:\n",
      "Press F for elevator being functional again:\n",
      "Press any floor Number in range 0 to 10\n",
      "Press N for new pessenger:\n",
      "Press R to remove pessenger:\n",
      "Press C to show current Floor\n"
     ]
    },
    {
     "name": "stdin",
     "output_type": "stream",
     "text": [
      "Press: n\n"
     ]
    },
    {
     "name": "stdout",
     "output_type": "stream",
     "text": [
      "Press E for emergency stop:\n",
      "Press F for elevator being functional again:\n",
      "Press any floor Number in range 0 to 10\n",
      "Press N for new pessenger:\n",
      "Press R to remove pessenger:\n",
      "Press C to show current Floor\n"
     ]
    },
    {
     "name": "stdin",
     "output_type": "stream",
     "text": [
      "Press: n\n"
     ]
    },
    {
     "name": "stdout",
     "output_type": "stream",
     "text": [
      "Press E for emergency stop:\n",
      "Press F for elevator being functional again:\n",
      "Press any floor Number in range 0 to 10\n",
      "Press N for new pessenger:\n",
      "Press R to remove pessenger:\n",
      "Press C to show current Floor\n"
     ]
    },
    {
     "name": "stdin",
     "output_type": "stream",
     "text": [
      "Press: n\n"
     ]
    },
    {
     "name": "stdout",
     "output_type": "stream",
     "text": [
      "Press E for emergency stop:\n",
      "Press F for elevator being functional again:\n",
      "Press any floor Number in range 0 to 10\n",
      "Press N for new pessenger:\n",
      "Press R to remove pessenger:\n",
      "Press C to show current Floor\n"
     ]
    },
    {
     "name": "stdin",
     "output_type": "stream",
     "text": [
      "Press: n\n"
     ]
    },
    {
     "name": "stdout",
     "output_type": "stream",
     "text": [
      "Press E for emergency stop:\n",
      "Press F for elevator being functional again:\n",
      "Press any floor Number in range 0 to 10\n",
      "Press N for new pessenger:\n",
      "Press R to remove pessenger:\n",
      "Press C to show current Floor\n"
     ]
    },
    {
     "name": "stdin",
     "output_type": "stream",
     "text": [
      "Press: n\n"
     ]
    },
    {
     "name": "stdout",
     "output_type": "stream",
     "text": [
      "Press E for emergency stop:\n",
      "Press F for elevator being functional again:\n",
      "Press any floor Number in range 0 to 10\n",
      "Press N for new pessenger:\n",
      "Press R to remove pessenger:\n",
      "Press C to show current Floor\n"
     ]
    },
    {
     "name": "stdin",
     "output_type": "stream",
     "text": [
      "Press: n\n"
     ]
    },
    {
     "name": "stdout",
     "output_type": "stream",
     "text": [
      "Press E for emergency stop:\n",
      "Press F for elevator being functional again:\n",
      "Press any floor Number in range 0 to 10\n",
      "Press N for new pessenger:\n",
      "Press R to remove pessenger:\n",
      "Press C to show current Floor\n"
     ]
    },
    {
     "name": "stdin",
     "output_type": "stream",
     "text": [
      "Press: n\n"
     ]
    },
    {
     "name": "stdout",
     "output_type": "stream",
     "text": [
      "Press E for emergency stop:\n",
      "Press F for elevator being functional again:\n",
      "Press any floor Number in range 0 to 10\n",
      "Press N for new pessenger:\n",
      "Press R to remove pessenger:\n",
      "Press C to show current Floor\n"
     ]
    },
    {
     "name": "stdin",
     "output_type": "stream",
     "text": [
      "Press: n\n"
     ]
    },
    {
     "name": "stdout",
     "output_type": "stream",
     "text": [
      "Capacity Full\n",
      "Press E for emergency stop:\n",
      "Press F for elevator being functional again:\n",
      "Press any floor Number in range 0 to 10\n",
      "Press N for new pessenger:\n",
      "Press R to remove pessenger:\n",
      "Press C to show current Floor\n"
     ]
    },
    {
     "name": "stdin",
     "output_type": "stream",
     "text": [
      "Press: n\n"
     ]
    },
    {
     "name": "stdout",
     "output_type": "stream",
     "text": [
      "Capacity Full\n",
      "Press E for emergency stop:\n",
      "Press F for elevator being functional again:\n",
      "Press any floor Number in range 0 to 10\n",
      "Press N for new pessenger:\n",
      "Press R to remove pessenger:\n",
      "Press C to show current Floor\n"
     ]
    },
    {
     "name": "stdin",
     "output_type": "stream",
     "text": [
      "Press: n\n"
     ]
    },
    {
     "name": "stdout",
     "output_type": "stream",
     "text": [
      "Capacity Full\n",
      "Press E for emergency stop:\n",
      "Press F for elevator being functional again:\n",
      "Press any floor Number in range 0 to 10\n",
      "Press N for new pessenger:\n",
      "Press R to remove pessenger:\n",
      "Press C to show current Floor\n"
     ]
    },
    {
     "name": "stdin",
     "output_type": "stream",
     "text": [
      "Press: a\n"
     ]
    }
   ],
   "source": [
    "while e.oper():\n",
    "    continue"
   ]
  },
  {
   "cell_type": "code",
   "execution_count": 42,
   "id": "b48cc2fe-299b-48b2-8eff-bb9e957d6069",
   "metadata": {},
   "outputs": [
    {
     "data": {
      "text/plain": [
       "11"
      ]
     },
     "execution_count": 42,
     "metadata": {},
     "output_type": "execute_result"
    }
   ],
   "source": [
    "e.capacity"
   ]
  },
  {
   "cell_type": "code",
   "execution_count": null,
   "id": "a867ad2e-335e-4d1c-b28e-82591abdc37d",
   "metadata": {},
   "outputs": [],
   "source": []
  }
 ],
 "metadata": {
  "kernelspec": {
   "display_name": "Python 3 (ipykernel)",
   "language": "python",
   "name": "python3"
  },
  "language_info": {
   "codemirror_mode": {
    "name": "ipython",
    "version": 3
   },
   "file_extension": ".py",
   "mimetype": "text/x-python",
   "name": "python",
   "nbconvert_exporter": "python",
   "pygments_lexer": "ipython3",
   "version": "3.9.13"
  }
 },
 "nbformat": 4,
 "nbformat_minor": 5
}
