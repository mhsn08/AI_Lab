{
 "cells": [
  {
   "cell_type": "code",
   "execution_count": 40,
   "id": "7663cb1e-6c28-4909-8a88-af62134636bc",
   "metadata": {},
   "outputs": [
    {
     "name": "stdout",
     "output_type": "stream",
     "text": [
      "Null values----------------->\n",
      "passenger_id      0\n",
      "pclass            0\n",
      "name              0\n",
      "sex               0\n",
      "age             174\n",
      "sibsp             0\n",
      "parch             0\n",
      "ticket            0\n",
      "fare              1\n",
      "cabin           659\n",
      "embarked          1\n",
      "boat            542\n",
      "body            777\n",
      "home.dest       386\n",
      "survived          0\n",
      "dtype: int64 (850, 15)\n",
      "True\n",
      "('Most people were heading towards newyork so we replace missing destinations with newyork', 'New York, NY')\n"
     ]
    },
    {
     "data": {
      "text/html": [
       "<div>\n",
       "<style scoped>\n",
       "    .dataframe tbody tr th:only-of-type {\n",
       "        vertical-align: middle;\n",
       "    }\n",
       "\n",
       "    .dataframe tbody tr th {\n",
       "        vertical-align: top;\n",
       "    }\n",
       "\n",
       "    .dataframe thead th {\n",
       "        text-align: right;\n",
       "    }\n",
       "</style>\n",
       "<table border=\"1\" class=\"dataframe\">\n",
       "  <thead>\n",
       "    <tr style=\"text-align: right;\">\n",
       "      <th></th>\n",
       "      <th>pclass</th>\n",
       "      <th>sex</th>\n",
       "      <th>age</th>\n",
       "      <th>ticket</th>\n",
       "      <th>fare</th>\n",
       "      <th>cabin</th>\n",
       "      <th>embarked</th>\n",
       "      <th>boat</th>\n",
       "      <th>body</th>\n",
       "      <th>home.dest</th>\n",
       "      <th>family</th>\n",
       "    </tr>\n",
       "  </thead>\n",
       "  <tbody>\n",
       "    <tr>\n",
       "      <th>0</th>\n",
       "      <td>2</td>\n",
       "      <td>0</td>\n",
       "      <td>40</td>\n",
       "      <td>283</td>\n",
       "      <td>25</td>\n",
       "      <td>134</td>\n",
       "      <td>1</td>\n",
       "      <td>4</td>\n",
       "      <td>73</td>\n",
       "      <td>171</td>\n",
       "      <td>0</td>\n",
       "    </tr>\n",
       "    <tr>\n",
       "      <th>1</th>\n",
       "      <td>2</td>\n",
       "      <td>1</td>\n",
       "      <td>50</td>\n",
       "      <td>257</td>\n",
       "      <td>48</td>\n",
       "      <td>134</td>\n",
       "      <td>2</td>\n",
       "      <td>26</td>\n",
       "      <td>73</td>\n",
       "      <td>56</td>\n",
       "      <td>0</td>\n",
       "    </tr>\n",
       "    <tr>\n",
       "      <th>2</th>\n",
       "      <td>2</td>\n",
       "      <td>0</td>\n",
       "      <td>40</td>\n",
       "      <td>307</td>\n",
       "      <td>124</td>\n",
       "      <td>134</td>\n",
       "      <td>2</td>\n",
       "      <td>26</td>\n",
       "      <td>73</td>\n",
       "      <td>171</td>\n",
       "      <td>2</td>\n",
       "    </tr>\n",
       "    <tr>\n",
       "      <th>3</th>\n",
       "      <td>1</td>\n",
       "      <td>0</td>\n",
       "      <td>69</td>\n",
       "      <td>237</td>\n",
       "      <td>120</td>\n",
       "      <td>134</td>\n",
       "      <td>2</td>\n",
       "      <td>13</td>\n",
       "      <td>73</td>\n",
       "      <td>52</td>\n",
       "      <td>4</td>\n",
       "    </tr>\n",
       "    <tr>\n",
       "      <th>4</th>\n",
       "      <td>1</td>\n",
       "      <td>1</td>\n",
       "      <td>53</td>\n",
       "      <td>228</td>\n",
       "      <td>77</td>\n",
       "      <td>134</td>\n",
       "      <td>2</td>\n",
       "      <td>26</td>\n",
       "      <td>73</td>\n",
       "      <td>11</td>\n",
       "      <td>0</td>\n",
       "    </tr>\n",
       "  </tbody>\n",
       "</table>\n",
       "</div>"
      ],
      "text/plain": [
       "   pclass  sex  age  ticket  fare  cabin  embarked  boat  body  home.dest  \\\n",
       "0       2    0   40     283    25    134         1     4    73        171   \n",
       "1       2    1   50     257    48    134         2    26    73         56   \n",
       "2       2    0   40     307   124    134         2    26    73        171   \n",
       "3       1    0   69     237   120    134         2    13    73         52   \n",
       "4       1    1   53     228    77    134         2    26    73         11   \n",
       "\n",
       "   family  \n",
       "0       0  \n",
       "1       0  \n",
       "2       2  \n",
       "3       4  \n",
       "4       0  "
      ]
     },
     "execution_count": 40,
     "metadata": {},
     "output_type": "execute_result"
    },
    {
     "data": {
      "image/png": "[encoded data removed]",
      "text/plain": [
       "<Figure size 900x700 with 12 Axes>"
      ]
     },
     "metadata": {},
     "output_type": "display_data"
    }
   ],
   "source": [
    "import numpy as np\n",
    "import pandas as pd\n",
    "import matplotlib.pyplot as mp\n",
    "from sklearn import preprocessing\n",
    "from sklearn.model_selection import train_test_split\n",
    "from sklearn.neural_network import MLPClassifier\n",
    "from sklearn.metrics import accuracy_score, precision_score, recall_score, f1_score\n",
    "\n",
    "data = pd.read_csv(\"titanic_train.csv\")\n",
    "data.head()\n",
    "label_encoder = preprocessing.LabelEncoder()\n",
    "\n",
    "print(\"Null values----------------->\")\n",
    "nulls =data.isnull().sum()\n",
    "print(nulls , data.shape)\n",
    "\n",
    "check_for_nan = data['age'].isnull().values.any()\n",
    "print (check_for_nan)\n",
    "#replacing null age values with avg of age because age cannot ve zero\n",
    "if(check_for_nan):\n",
    "    avg_age = int(round(data['age'].mean()))\n",
    "    data['age'] = data['age'].replace(np.nan,avg_age)\n",
    "    \n",
    "#largest number of commuters/passengers embarked from southampton so replace missing values with mode of the column\n",
    "data.embarked.fillna(data.embarked.mode()[0], inplace = True)\n",
    "\n",
    "avg_fare = int(round(data['fare'].mean()))\n",
    "data['fare'] = data['fare'].replace(np.nan,avg_fare)\n",
    "\n",
    "#cabin has more than 200 values missing which means most people didnt have cabin and were in the main lobby so we cannot truly predict! so replacing missing values with new class 'NA'\n",
    "data.cabin = data.cabin.fillna('NA')\n",
    "\n",
    "#As parch and sibsp both represents family we can combine it\n",
    "data['family'] = data.parch + data.sibsp\n",
    "data.drop(['parch','sibsp'],axis=1,inplace = True)\n",
    "\n",
    "print((\"Most people were heading towards newyork so we replace missing destinations with newyork\",data['home.dest'].mode()[0]))\n",
    "data['home.dest'].fillna(data['home.dest'].mode()[0], inplace = True)\n",
    "\n",
    "\n",
    "# As there are too many values in the boat this means not many people reached to the boat so we replace missing values with NA\n",
    "data.boat = data.boat.fillna('NA')\n",
    "data.drop(['name','passenger_id'],axis=1,inplace=True)\n",
    "\n",
    "# data.body = data.body.fillna('NA')\n",
    "\n",
    "\n",
    "#Now we replace categorical values by numerical values and also scale the columns\n",
    "for column in data:\n",
    "    data[column] = label_encoder.fit_transform(data[column])\n",
    "y = data['survived']\n",
    "data.drop('survived',axis = 1,inplace = True)\n",
    "X_test, X_train, y_test, y_train = train_test_split(data,y,\n",
    "test_size=0.2, random_state=42, shuffle=True)\n",
    "\n",
    "X_train.hist(bins=\"auto\",figsize=(9,7),grid=False)\n",
    "data.head()\n",
    "\n"
   ]
  },
  {
   "cell_type": "code",
   "execution_count": 27,
   "id": "12736f61-15f3-45fa-b44a-87b0826dbf1c",
   "metadata": {},
   "outputs": [
    {
     "name": "stdout",
     "output_type": "stream",
     "text": [
      "---------------when two hidden layers with  3,3 neurons------------------\n",
      "Accuracy: 0.6323529411764706\n",
      "Precision: 0.41935483870967744\n",
      "Recall: 0.053061224489795916\n",
      "F1 score: 0.09420289855072463\n"
     ]
    }
   ],
   "source": [
    "mlp = MLPClassifier(solver=\"lbfgs\",alpha = 1e-5,hidden_layer_sizes = (3,3),random_state = 1)\n",
    "mlp.fit(X_train,y_train)\n",
    "y_pred = mlp.predict(X_test)\n",
    "y_score = mlp.score(X_test,y_test)\n",
    "accuracy = accuracy_score(y_test, y_pred)\n",
    "precision = precision_score(y_test, y_pred)\n",
    "recall = recall_score(y_test, y_pred)\n",
    "f1 = f1_score(y_test, y_pred)\n",
    "print(\"---------------when two hidden layers with  3,3 neurons------------------\")\n",
    "print('Accuracy:', accuracy)\n",
    "print('Precision:', precision)\n",
    "print('Recall:', recall)\n",
    "print('F1 score:', f1)"
   ]
  },
  {
   "cell_type": "code",
   "execution_count": 28,
   "id": "b715d556-4609-4b1c-b9ac-8d46336e8667",
   "metadata": {},
   "outputs": [
    {
     "name": "stdout",
     "output_type": "stream",
     "text": [
      "---------------when two hidden layers with  3,4 neurons------------------\n",
      "Accuracy: 0.6514705882352941\n",
      "Precision: 0.5571428571428572\n",
      "Recall: 0.15918367346938775\n",
      "F1 score: 0.2476190476190476\n"
     ]
    }
   ],
   "source": [
    "mlp = MLPClassifier(solver=\"lbfgs\",alpha = 1e-5,hidden_layer_sizes = (3,4),random_state = 1)\n",
    "mlp.fit(X_train,y_train)\n",
    "y_pred = mlp.predict(X_test)\n",
    "y_score = mlp.score(X_test,y_test)\n",
    "accuracy = accuracy_score(y_test, y_pred)\n",
    "precision = precision_score(y_test, y_pred)\n",
    "recall = recall_score(y_test, y_pred)\n",
    "f1 = f1_score(y_test, y_pred)\n",
    "print(\"---------------when two hidden layers with  3,4 neurons------------------\")\n",
    "print('Accuracy:', accuracy)\n",
    "print('Precision:', precision)\n",
    "print('Recall:', recall)\n",
    "print('F1 score:', f1)"
   ]
  },
  {
   "cell_type": "code",
   "execution_count": 29,
   "id": "080e3cba-0191-4255-aa1a-dc08e7afd588",
   "metadata": {},
   "outputs": [
    {
     "name": "stdout",
     "output_type": "stream",
     "text": [
      "---------------when two hidden layers with  5,5 neurons------------------\n",
      "Accuracy: 0.6544117647058824\n",
      "Precision: 0.6041666666666666\n",
      "Recall: 0.11836734693877551\n",
      "F1 score: 0.19795221843003416\n"
     ]
    }
   ],
   "source": [
    "mlp = MLPClassifier(solver=\"lbfgs\",alpha = 1e-5,hidden_layer_sizes = (5,5),random_state = 1)\n",
    "mlp.fit(X_train,y_train)\n",
    "y_pred = mlp.predict(X_test)\n",
    "y_score = mlp.score(X_test,y_test)\n",
    "accuracy = accuracy_score(y_test, y_pred)\n",
    "precision = precision_score(y_test, y_pred)\n",
    "recall = recall_score(y_test, y_pred)\n",
    "f1 = f1_score(y_test, y_pred)\n",
    "print(\"---------------when two hidden layers with  5,5 neurons------------------\")\n",
    "print('Accuracy:', accuracy)\n",
    "print('Precision:', precision)\n",
    "print('Recall:', recall)\n",
    "print('F1 score:', f1)"
   ]
  },
  {
   "cell_type": "code",
   "execution_count": 30,
   "id": "9c559618-3828-44b5-8da2-a30596a73a17",
   "metadata": {},
   "outputs": [
    {
     "name": "stdout",
     "output_type": "stream",
     "text": [
      "---------------when two hidden layers with  7,5 neurons------------------\n",
      "Accuracy: 0.6955882352941176\n",
      "Precision: 0.6\n",
      "Recall: 0.46530612244897956\n",
      "F1 score: 0.5241379310344827\n"
     ]
    }
   ],
   "source": [
    "mlp = MLPClassifier(solver=\"lbfgs\",alpha = 1e-5,hidden_layer_sizes = (7,5),random_state = 1)\n",
    "mlp.fit(X_train,y_train)\n",
    "y_pred = mlp.predict(X_test)\n",
    "y_score = mlp.score(X_test,y_test)\n",
    "accuracy = accuracy_score(y_test, y_pred)\n",
    "precision = precision_score(y_test, y_pred)\n",
    "recall = recall_score(y_test, y_pred)\n",
    "f1 = f1_score(y_test, y_pred)\n",
    "print(\"---------------when two hidden layers with  7,5 neurons------------------\")\n",
    "print('Accuracy:', accuracy)\n",
    "print('Precision:', precision)\n",
    "print('Recall:', recall)\n",
    "print('F1 score:', f1)"
   ]
  },
  {
   "cell_type": "code",
   "execution_count": 31,
   "id": "44a089bd-4a6d-48c7-873f-ea8c8e2996a8",
   "metadata": {},
   "outputs": [
    {
     "name": "stdout",
     "output_type": "stream",
     "text": [
      "---------------when two hidden layers with  6,7 neurons------------------\n",
      "Accuracy: 0.6823529411764706\n",
      "Precision: 0.6124031007751938\n",
      "Recall: 0.3224489795918367\n",
      "F1 score: 0.4224598930481283\n"
     ]
    }
   ],
   "source": [
    "mlp = MLPClassifier(solver=\"lbfgs\",alpha = 1e-5,hidden_layer_sizes = (6,7),random_state = 1)\n",
    "mlp.fit(X_train,y_train)\n",
    "y_pred = mlp.predict(X_test)\n",
    "y_score = mlp.score(X_test,y_test)\n",
    "accuracy = accuracy_score(y_test, y_pred)\n",
    "precision = precision_score(y_test, y_pred)\n",
    "recall = recall_score(y_test, y_pred)\n",
    "f1 = f1_score(y_test, y_pred)\n",
    "print(\"---------------when two hidden layers with  6,7 neurons------------------\")\n",
    "print('Accuracy:', accuracy)\n",
    "print('Precision:', precision)\n",
    "print('Recall:', recall)\n",
    "print('F1 score:', f1)"
   ]
  },
  {
   "cell_type": "code",
   "execution_count": 32,
   "id": "1d990da2-960b-4931-9117-aa9b8cec3774",
   "metadata": {},
   "outputs": [
    {
     "name": "stdout",
     "output_type": "stream",
     "text": [
      "---------------when two hidden layers with  3,7 neurons------------------\n",
      "Accuracy: 0.9529411764705882\n",
      "Precision: 0.914396887159533\n",
      "Recall: 0.9591836734693877\n",
      "F1 score: 0.9362549800796813\n",
      "score: 0.9529411764705882\n"
     ]
    }
   ],
   "source": [
    "mlp = MLPClassifier(solver=\"lbfgs\",alpha = 1e-5,hidden_layer_sizes = (3,7),random_state = 1)\n",
    "mlp.fit(X_train,y_train)\n",
    "y_pred = mlp.predict(X_test)\n",
    "y_score = mlp.score(X_test,y_test)\n",
    "accuracy = accuracy_score(y_test, y_pred)\n",
    "precision = precision_score(y_test, y_pred)\n",
    "recall = recall_score(y_test, y_pred)\n",
    "f1 = f1_score(y_test, y_pred)\n",
    "print(\"---------------when two hidden layers with  3,7 neurons------------------\")\n",
    "print('Accuracy:', accuracy)\n",
    "print('Precision:', precision)\n",
    "print('Recall:', recall)\n",
    "print('F1 score:', f1)\n",
    "print(\"score:\",y_score)"
   ]
  },
  {
   "cell_type": "code",
   "execution_count": 34,
   "id": "ff060046-c992-4f59-93e3-e03dd2946551",
   "metadata": {},
   "outputs": [
    {
     "name": "stdout",
     "output_type": "stream",
     "text": [
      "---------------when two hidden layers with  9,9 neurons------------------\n",
      "Accuracy: 0.6661764705882353\n",
      "Precision: 0.6022727272727273\n",
      "Recall: 0.2163265306122449\n",
      "F1 score: 0.31831831831831836\n",
      "score: 0.6661764705882353\n"
     ]
    }
   ],
   "source": [
    "mlp = MLPClassifier(solver=\"lbfgs\",alpha = 1e-5,hidden_layer_sizes = (9,9),random_state = 1)\n",
    "mlp.fit(X_train,y_train)\n",
    "y_pred = mlp.predict(X_test)\n",
    "y_score = mlp.score(X_test,y_test)\n",
    "accuracy = accuracy_score(y_test, y_pred)\n",
    "precision = precision_score(y_test, y_pred)\n",
    "recall = recall_score(y_test, y_pred)\n",
    "f1 = f1_score(y_test, y_pred)\n",
    "print(\"---------------when two hidden layers with  9,9 neurons------------------\")\n",
    "print('Accuracy:', accuracy)\n",
    "print('Precision:', precision)\n",
    "print('Recall:', recall)\n",
    "print('F1 score:', f1)\n",
    "print(\"score:\",y_score)"
   ]
  },
  {
   "cell_type": "code",
   "execution_count": 33,
   "id": "f1613932-8ce8-422c-8e6c-43b21c07a43e",
   "metadata": {},
   "outputs": [
    {
     "name": "stdout",
     "output_type": "stream",
     "text": [
      "---------------when three hidden layers with  3,5,7 neurons------------------\n",
      "Accuracy: 0.6455882352941177\n",
      "Precision: 0.5588235294117647\n",
      "Recall: 0.07755102040816327\n",
      "F1 score: 0.13620071684587812\n",
      "score: 0.6455882352941177\n"
     ]
    }
   ],
   "source": [
    "mlp = MLPClassifier(solver=\"lbfgs\",alpha = 1e-5,hidden_layer_sizes = (3,5,7),random_state = 1)\n",
    "mlp.fit(X_train,y_train)\n",
    "y_pred = mlp.predict(X_test)\n",
    "y_score = mlp.score(X_test,y_test)\n",
    "accuracy = accuracy_score(y_test, y_pred)\n",
    "precision = precision_score(y_test, y_pred)\n",
    "recall = recall_score(y_test, y_pred)\n",
    "f1 = f1_score(y_test, y_pred)\n",
    "print(\"---------------when three hidden layers with  3,5,7 neurons------------------\")\n",
    "print('Accuracy:', accuracy)\n",
    "print('Precision:', precision)\n",
    "print('Recall:', recall)\n",
    "print('F1 score:', f1)\n",
    "print(\"score:\",y_score)"
   ]
  },
  {
   "cell_type": "code",
   "execution_count": 36,
   "id": "70b46dc8-aa26-45f4-b641-343fd75d437d",
   "metadata": {},
   "outputs": [
    {
     "name": "stdout",
     "output_type": "stream",
     "text": [
      "---------------when three hidden layers with  7,5,3 neurons------------------\n",
      "Accuracy: 0.6485294117647059\n",
      "Precision: 0.875\n",
      "Recall: 0.02857142857142857\n",
      "F1 score: 0.05533596837944663\n",
      "score: 0.6485294117647059\n"
     ]
    }
   ],
   "source": [
    "\n",
    "mlp = MLPClassifier(solver=\"lbfgs\",alpha = 1e-5,hidden_layer_sizes = (7,5,3),random_state = 1)\n",
    "mlp.fit(X_train,y_train)\n",
    "y_pred = mlp.predict(X_test)\n",
    "y_score = mlp.score(X_test,y_test)\n",
    "accuracy = accuracy_score(y_test, y_pred)\n",
    "precision = precision_score(y_test, y_pred)\n",
    "recall = recall_score(y_test, y_pred)\n",
    "f1 = f1_score(y_test, y_pred)\n",
    "print(\"---------------when three hidden layers with  7,5,3 neurons------------------\")\n",
    "print('Accuracy:', accuracy)\n",
    "print('Precision:', precision)\n",
    "print('Recall:', recall)\n",
    "print('F1 score:', f1)\n",
    "print(\"score:\",y_score)"
   ]
  },
  {
   "cell_type": "code",
   "execution_count": 41,
   "id": "5d22c7b8-2abb-48c5-bf0e-aff74f0c76a8",
   "metadata": {},
   "outputs": [
    {
     "name": "stdout",
     "output_type": "stream",
     "text": [
      "---------------when three hidden layers with  50,50 neurons------------------\n",
      "Accuracy: 0.9147058823529411\n",
      "Precision: 0.8755020080321285\n",
      "Recall: 0.889795918367347\n",
      "F1 score: 0.8825910931174089\n",
      "score: 0.9147058823529411\n"
     ]
    }
   ],
   "source": [
    "mlp = MLPClassifier(solver=\"lbfgs\",alpha = 1e-5,hidden_layer_sizes = (50,50),random_state = 1)\n",
    "mlp.fit(X_train,y_train)\n",
    "y_pred = mlp.predict(X_test)\n",
    "y_score = mlp.score(X_test,y_test)\n",
    "accuracy = accuracy_score(y_test, y_pred)\n",
    "precision = precision_score(y_test, y_pred)\n",
    "recall = recall_score(y_test, y_pred)\n",
    "f1 = f1_score(y_test, y_pred)\n",
    "print(\"---------------when three hidden layers with  50,50 neurons------------------\")\n",
    "print('Accuracy:', accuracy)\n",
    "print('Precision:', precision)\n",
    "print('Recall:', recall)\n",
    "print('F1 score:', f1)\n",
    "print(\"score:\",y_score)"
   ]
  },
  {
   "cell_type": "code",
   "execution_count": null,
   "id": "bef50efc-af9c-44e5-95f7-70d1cbe32953",
   "metadata": {},
   "outputs": [],
   "source": []
  }
 ],
 "metadata": {
  "kernelspec": {
   "display_name": "Python 3 (ipykernel)",
   "language": "python",
   "name": "python3"
  },
  "language_info": {
   "codemirror_mode": {
    "name": "ipython",
    "version": 3
   },
   "file_extension": ".py",
   "mimetype": "text/x-python",
   "name": "python",
   "nbconvert_exporter": "python",
   "pygments_lexer": "ipython3",
   "version": "3.9.13"
  }
 },
 "nbformat": 4,
 "nbformat_minor": 5
}
