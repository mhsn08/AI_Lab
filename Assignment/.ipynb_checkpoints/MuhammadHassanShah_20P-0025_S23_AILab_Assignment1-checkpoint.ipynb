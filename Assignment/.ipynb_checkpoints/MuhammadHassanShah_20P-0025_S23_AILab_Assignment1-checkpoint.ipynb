{
 "cells": [
  {
   "cell_type": "code",
   "execution_count": 1,
   "id": "9fc8e684-3384-4fe4-a126-582966f9d223",
   "metadata": {},
   "outputs": [],
   "source": [
    "import random"
   ]
  },
  {
   "cell_type": "code",
   "execution_count": 2,
   "id": "71a4fc02-316d-45de-8d22-36ea3e74a520",
   "metadata": {},
   "outputs": [
    {
     "data": {
      "text/plain": [
       "{0: [3, 5],\n",
       " 1: [1, 7],\n",
       " 2: [3, 5],\n",
       " 3: [3, 6],\n",
       " 4: [4, 6],\n",
       " 5: [5, 7],\n",
       " 6: [1, 7],\n",
       " 7: [2, 6],\n",
       " 8: [1, 6],\n",
       " 9: [5, 6]}"
      ]
     },
     "execution_count": 2,
     "metadata": {},
     "output_type": "execute_result"
    }
   ],
   "source": [
    "items = {}\n",
    "for i in range(10):\n",
    "    rand_price = random.randint(1,5)\n",
    "    rand_weight = random.randint(5,8)\n",
    "    items[i] = [rand_price,rand_weight]\n",
    "items"
   ]
  },
  {
   "cell_type": "code",
   "execution_count": 3,
   "id": "f25f5f0a-f9df-4694-aade-a0c8423ed5e6",
   "metadata": {},
   "outputs": [],
   "source": [
    "class population:\n",
    "    def __init__(self,total_pop,weight_lim,items):\n",
    "        self.total_pop = total_pop\n",
    "        self.weight_lim = weight_lim\n",
    "        self.items = items\n",
    "        self.pop = []\n",
    "        self.generate_pop() "
   ]
  },
  {
   "cell_type": "markdown",
   "id": "67b29334-d18b-40b1-aff3-61858efbe507",
   "metadata": {},
   "source": [
    "This function calculates the total weight in the chromosome and returns the weight"
   ]
  },
  {
   "cell_type": "code",
   "execution_count": 4,
   "id": "08d6430d-86bc-40c7-927e-03e25e319871",
   "metadata": {},
   "outputs": [],
   "source": [
    "def calculate_total_weight(self,ch):\n",
    "    weight = 0\n",
    "    for i in ch:\n",
    "        weight += i[1]\n",
    "    return weight"
   ]
  },
  {
   "cell_type": "markdown",
   "id": "cffb584d-3733-431b-bcc8-7f9d7732be1f",
   "metadata": {},
   "source": [
    "This will calculate the total value or price of a chromosome"
   ]
  },
  {
   "cell_type": "code",
   "execution_count": 5,
   "id": "41fb23a2-34a5-42d8-96f6-954aa3f05364",
   "metadata": {},
   "outputs": [],
   "source": [
    "def calculate_total_price(self,ch):\n",
    "    price = 0\n",
    "    for i in ch:\n",
    "        price += i[0]\n",
    "    return price"
   ]
  },
  {
   "cell_type": "markdown",
   "id": "60f20eb3-0ff6-4d72-9bcc-c42005c9cb5b",
   "metadata": {},
   "source": [
    "This function makes a chromosomem while calculating the weight, unless the limit is reached it keeps adding items\n",
    "and when the weight exceeds it stops and removes the last item, because of the last item the weight exceeded"
   ]
  },
  {
   "cell_type": "code",
   "execution_count": 6,
   "id": "c0c93ed2-cff0-44c9-b4a8-eaa1f2c933b4",
   "metadata": {},
   "outputs": [],
   "source": [
    "def make_chromosome(self):\n",
    "    ran = random.randint(0,len(self.items)-1)\n",
    "    already_added = [ran]\n",
    "    ch = [self.items[ran]]\n",
    "    while self.calculate_total_weight(ch) <= self.weight_lim:\n",
    "        while ran in already_added:                                     # So an item can't be added twice\n",
    "            ran = random.randint(0,len(self.items)-1)                   # It will keep generting new number\n",
    "        already_added.append(ran)\n",
    "        ch.append(items[ran])\n",
    "    del(ch[-1])\n",
    "    return ch"
   ]
  },
  {
   "cell_type": "markdown",
   "id": "54a5e9a8-d60a-4971-9900-44e7986aa411",
   "metadata": {},
   "source": [
    "This will generate the population"
   ]
  },
  {
   "cell_type": "code",
   "execution_count": 7,
   "id": "dc00bfe0-e387-4562-aa50-6658293daa29",
   "metadata": {},
   "outputs": [],
   "source": [
    "def generate_pop(self):\n",
    "    for i in range(self.total_pop):\n",
    "        self.pop.append(self.make_chromosome())"
   ]
  },
  {
   "cell_type": "markdown",
   "id": "cf8981d5-747d-4ecb-82dc-ccf5c1572a11",
   "metadata": {},
   "source": [
    "There is an array for selection. Let say we have value of a chromosome 3, then that chromosome's index will be appended 3 times. So when we generate a random number for selection, it will have 3 chance."
   ]
  },
  {
   "cell_type": "code",
   "execution_count": 19,
   "id": "2928d70a-6d9f-4d98-9725-f22678850d49",
   "metadata": {},
   "outputs": [],
   "source": [
    "def selection(self):\n",
    "    ind_value = {}\n",
    "    array_for_selection = []\n",
    "    for i in range(self.total_pop):\n",
    "        temp = self.calculate_total_price(self.pop[i])\n",
    "        for j in range(temp):\n",
    "            array_for_selection.append(i)\n",
    "    temp = random.randint(0,len(array_for_selection)-1)\n",
    "    self.parent1 = self.pop[array_for_selection[temp]]\n",
    "    while temp in array_for_selection:\n",
    "        array_for_selection.remove(temp)\n",
    "    temp = random.randint(0,len(array_for_selection)-1)\n",
    "    self.parent2 = self.pop[array_for_selection[temp]]\n",
    "    "
   ]
  },
  {
   "cell_type": "markdown",
   "id": "be65aa4d-9794-480d-b7ba-0edc8adbe7ed",
   "metadata": {},
   "source": [
    "This is basically making two random integers which will be used for crossover. If a child exceeds the limit then the one the parent with more fitness will remain. If both child exceeds, then both parent remains in the population"
   ]
  },
  {
   "cell_type": "code",
   "execution_count": 24,
   "id": "8776f931-4dcd-4546-bc7e-182defd873a9",
   "metadata": {},
   "outputs": [],
   "source": [
    "def crossover(self):\n",
    "    ran1 = random.randint(0,len(self.parent1))\n",
    "    ran2 = random.randint(0,len(self.parent2))\n",
    "    if(ran1 == 0 or ran1 == len(self.parent1)):\n",
    "        self.child1 = self.parent1\n",
    "        self.child2 = self.parent2\n",
    "        return\n",
    "    self.child1 = self.parent1[:ran1] + self.parent2[:ran2]\n",
    "    self.child2 = self.parent1[ran1:] + self.parent2[ran2:]\n",
    "    fit_child1 = self.calculate_total_price(self.child1)                            # Fitness of child 1\n",
    "    fit_child2 = self.calculate_total_price(self.child2)\n",
    "    if(fit_child1 > self.weight_lim and fit_child2 > self.weight_lim):\n",
    "        self.child1 = self.parent1\n",
    "        self.child2 = self.parent2\n",
    "        return\n",
    "    if(fit_child1 > self.weight_lim):\n",
    "        fit_parent1 = self.calculate_total_price(self.parent1)\n",
    "        fit_parent2 = self.calculate_total_price(self.parent2)\n",
    "        if(fit_parent1 > fit_parent2):\n",
    "            self.child1 = self.parent1\n",
    "        else:\n",
    "            self.child1 = self.parent2\n",
    "    if(fit_child2 > self.weight_lim):\n",
    "        fit_parent1 = self.calculate_total_price(self.parent1)\n",
    "        fit_parent2 = self.calculate_total_price(self.parent2)\n",
    "        if(fit_parent1 > fit_parent2):\n",
    "            self.child2 = self.parent1\n",
    "        else:\n",
    "            self.child2 = self.parent2\n"
   ]
  },
  {
   "cell_type": "markdown",
   "id": "7a7c4115-cb47-419d-b886-ef5b7f72ea13",
   "metadata": {},
   "source": [
    "If a random number is greater then 90, then one of the item will be dropped, this can enable us to get out of local maxima and make us explore more possibilities"
   ]
  },
  {
   "cell_type": "code",
   "execution_count": 10,
   "id": "beeab4fb-7d62-4e12-aa2b-041ab914821a",
   "metadata": {},
   "outputs": [],
   "source": [
    "def mutation(self):\n",
    "    ran = random.randint(0,100)\n",
    "    if(ran > 90):\n",
    "        ran = random.randint(0,len(self.child1)-1)\n",
    "        del(self.child1[ran])\n",
    "    ran = random.randint(0,100)\n",
    "    if(ran > 90):\n",
    "        ran = random.randint(0,len(self.child2)-1)\n",
    "        del(self.child2[ran])"
   ]
  },
  {
   "cell_type": "code",
   "execution_count": 44,
   "id": "702a2451-70bc-4845-be63-497cb4c4b60b",
   "metadata": {},
   "outputs": [],
   "source": [
    "def accept(self):\n",
    "    ind_value = {}\n",
    "    for i in range(self.total_pop):\n",
    "        ind_value[i] = self.calculate_total_price(self.pop[i])\n",
    "    min_prices = sorted(ind_value, key=ind_value.get)[:2]\n",
    "    temp1 = self.pop[min_prices[0]]\n",
    "    temp2 = self.pop[min_prices[1]]\n",
    "    self.pop.remove(temp1)\n",
    "    self.pop.remove(temp2)\n",
    "    self.pop.append(self.child1)\n",
    "    self.pop.append(self.child2)"
   ]
  },
  {
   "cell_type": "markdown",
   "id": "6b2a0fd5-4d02-4c0f-ad55-08efbaa8b3f1",
   "metadata": {},
   "source": [
    "This function will take iteration as argument which will tell us how many generation we want. after that calculate the chromosome with max fitness and return it"
   ]
  },
  {
   "cell_type": "code",
   "execution_count": 39,
   "id": "f2552170-31d4-4286-95b9-66cb15bf5c55",
   "metadata": {},
   "outputs": [],
   "source": [
    "def generate(self,iteration):\n",
    "    for i in range(iteration):\n",
    "        self.selection()\n",
    "        self.crossover()\n",
    "        self.mutation()\n",
    "        self.accept()\n",
    "    ind_value = {}\n",
    "    for i in range(self.total_pop):\n",
    "        ind_value[i] = self.calculate_total_price(self.pop[i])\n",
    "    max_prices = sorted(ind_value, key=ind_value.get, reverse=True)[:1]\n",
    "    return self.pop[max_prices[0]]"
   ]
  },
  {
   "cell_type": "code",
   "execution_count": 45,
   "id": "ec3d5af1-7ad1-44a1-bc48-92ae6f00cc52",
   "metadata": {},
   "outputs": [],
   "source": [
    "population.calculate_total_weight = calculate_total_weight\n",
    "population.make_chromosome = make_chromosome\n",
    "population.generate_pop = generate_pop\n",
    "population.selection = selection\n",
    "population.calculate_total_price = calculate_total_price\n",
    "population.crossover = crossover\n",
    "population.mutation = mutation\n",
    "population.accept = accept\n",
    "population.generate = generate"
   ]
  },
  {
   "cell_type": "code",
   "execution_count": 46,
   "id": "fca9172c-27c3-47ae-8c2e-74b8961f07b2",
   "metadata": {},
   "outputs": [],
   "source": [
    "test = population(20,35,items)"
   ]
  },
  {
   "cell_type": "code",
   "execution_count": 47,
   "id": "c260aa57-79dc-45e6-ad98-e84676aaf167",
   "metadata": {},
   "outputs": [
    {
     "data": {
      "text/plain": [
       "[[[5, 6], [4, 6], [1, 7], [3, 6], [5, 7]],\n",
       " [[3, 5], [5, 6], [1, 7], [1, 6], [3, 6]],\n",
       " [[3, 5], [1, 7], [5, 7], [1, 7], [3, 6]],\n",
       " [[5, 6], [3, 5], [3, 6], [1, 7], [5, 7]],\n",
       " [[1, 6], [4, 6], [1, 7], [5, 7], [2, 6]],\n",
       " [[3, 6], [5, 7], [1, 7], [1, 7], [2, 6]],\n",
       " [[3, 5], [5, 7], [1, 7], [5, 6], [1, 6]],\n",
       " [[2, 6], [3, 5], [4, 6], [3, 6], [3, 5], [1, 6]],\n",
       " [[4, 6], [3, 5], [1, 6], [5, 6], [1, 7], [3, 5]],\n",
       " [[4, 6], [3, 5], [1, 7], [1, 6], [5, 7]],\n",
       " [[1, 7], [5, 7], [1, 7], [2, 6], [5, 6]],\n",
       " [[1, 7], [3, 6], [3, 5], [1, 7], [4, 6]],\n",
       " [[5, 6], [3, 5], [5, 7], [3, 6], [1, 6]],\n",
       " [[3, 5], [3, 6], [3, 5], [5, 6], [1, 6], [5, 7]],\n",
       " [[1, 6], [4, 6], [3, 5], [1, 7], [2, 6]],\n",
       " [[3, 6], [3, 5], [3, 5], [1, 7], [2, 6], [1, 6]],\n",
       " [[2, 6], [1, 7], [5, 6], [4, 6], [3, 5]],\n",
       " [[5, 6], [3, 5], [1, 6], [5, 7], [1, 7]],\n",
       " [[1, 7], [1, 6], [2, 6], [3, 5], [5, 6]],\n",
       " [[3, 6], [3, 5], [5, 7], [1, 7], [2, 6]]]"
      ]
     },
     "execution_count": 47,
     "metadata": {},
     "output_type": "execute_result"
    }
   ],
   "source": [
    "test.pop"
   ]
  },
  {
   "cell_type": "code",
   "execution_count": 48,
   "id": "20900dba-4f7b-43c2-ab8d-95392f35b898",
   "metadata": {},
   "outputs": [
    {
     "data": {
      "text/plain": [
       "[[3, 5], [3, 6], [3, 5], [5, 6], [1, 6], [5, 7]]"
      ]
     },
     "execution_count": 48,
     "metadata": {},
     "output_type": "execute_result"
    }
   ],
   "source": [
    "test.generate(5)"
   ]
  },
  {
   "cell_type": "code",
   "execution_count": null,
   "id": "254be33a-0dfa-4260-a96f-1b5d0c25992f",
   "metadata": {},
   "outputs": [],
   "source": []
  }
 ],
 "metadata": {
  "kernelspec": {
   "display_name": "Python 3 (ipykernel)",
   "language": "python",
   "name": "python3"
  },
  "language_info": {
   "codemirror_mode": {
    "name": "ipython",
    "version": 3
   },
   "file_extension": ".py",
   "mimetype": "text/x-python",
   "name": "python",
   "nbconvert_exporter": "python",
   "pygments_lexer": "ipython3",
   "version": "3.9.13"
  }
 },
 "nbformat": 4,
 "nbformat_minor": 5
}
