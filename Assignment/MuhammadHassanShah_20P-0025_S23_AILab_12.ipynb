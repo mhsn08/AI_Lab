{
 "cells": [
  {
   "cell_type": "code",
   "execution_count": 1,
   "metadata": {},
   "outputs": [],
   "source": [
    "import random"
   ]
  },
  {
   "cell_type": "code",
   "execution_count": 2,
   "metadata": {},
   "outputs": [],
   "source": [
    "def make_arr(n):\n",
    "    return [0]*n*n"
   ]
  },
  {
   "cell_type": "code",
   "execution_count": 3,
   "metadata": {},
   "outputs": [],
   "source": [
    "def fitness(arr):\n",
    "    count = 0\n",
    "    for i in arr:\n",
    "        if i == 1:\n",
    "            count += 1\n",
    "    return count"
   ]
  },
  {
   "cell_type": "code",
   "execution_count": 4,
   "metadata": {},
   "outputs": [],
   "source": [
    "def assign_rand(arr):\n",
    "    for i in range(len(arr)):\n",
    "        r = random.randint(0,1)\n",
    "        arr[i] = r\n",
    "    return arr"
   ]
  },
  {
   "cell_type": "code",
   "execution_count": 11,
   "metadata": {},
   "outputs": [],
   "source": [
    "class population:\n",
    "    def __init__(self):\n",
    "        self.itt = 0            # iteration\n",
    "        self.total_fitness = 0\n",
    "        self.d = {}\n",
    "        self.ind_fit = {}\n",
    "        self.goal = None\n",
    "        for i in range(20):\n",
    "            self.d[i] = assign_rand(make_arr(4))\n",
    "        self.cal_total_fitness()\n",
    "        \n",
    "    def chk_goal(self):\n",
    "        for i in self.d:\n",
    "            if 0 not in self.d[i]:\n",
    "                self.goal = i\n",
    "                return\n",
    "            \n",
    "    def cal_total_fitness(self):\n",
    "        self.total_fitness = 0\n",
    "        for i in self.d:\n",
    "            temp = fitness(self.d[i])\n",
    "            self.ind_fit[i] = temp\n",
    "            self.total_fitness += temp\n",
    "            \n",
    "    def selection(self):\n",
    "        sel = [0]*self.total_fitness\n",
    "        ind = 0\n",
    "        for i in self.ind_fit:\n",
    "            for j in range(self.ind_fit[i]):\n",
    "                sel[ind] = i\n",
    "                ind += 1\n",
    "        rand = random.randint(0,self.total_fitness-1)\n",
    "        rand = sel[rand]\n",
    "        self.first_p = self.d[rand]\n",
    "        while rand in sel:\n",
    "            sel.remove(rand)\n",
    "        rand = random.randint(0,len(sel)-1)\n",
    "        rand = sel[rand]\n",
    "        self.sec_p = self.d[rand]\n",
    "        \n",
    "    def cross_over(self):\n",
    "        rand = random.randint(0,16)\n",
    "        if rand == 16 or rand == 0:\n",
    "            self.f_child = self.first_p\n",
    "            self.s_child = self.sec_p\n",
    "            return\n",
    "        self.f_child = [0]*16\n",
    "        self.s_child = [0]*16\n",
    "        for i in range(rand):\n",
    "            self.f_child[i] = self.first_p[i]\n",
    "            self.s_child[i] = self.sec_p[i]\n",
    "        for i in range(rand,16):\n",
    "            self.f_child[i] = self.first_p[i]\n",
    "            self.s_child[i] = self.sec_p[i]\n",
    "            \n",
    "    def mutate(self):\n",
    "        rand = random.randint(0,15)\n",
    "        rand2 = random.randint(0,100)\n",
    "        if rand2 > 80:\n",
    "            if(self.f_child[rand] == 0):\n",
    "                self.f_child[rand] = 1\n",
    "            else:\n",
    "                self.f_child[rand] = 0\n",
    "        rand = random.randint(0,15)\n",
    "        rand2 = random.randint(0,100)\n",
    "        if rand2 > 80:\n",
    "            if(self.s_child[rand] == 0):\n",
    "                self.s_child[rand] = 1\n",
    "            else:\n",
    "                self.s_child[rand] = 0\n",
    "                \n",
    "    def acceptance(self):\n",
    "        min1 = float('inf')\n",
    "        min2 = float('inf')\n",
    "        key1 = None\n",
    "        key2 = None\n",
    "\n",
    "        for key, value in self.ind_fit.items():\n",
    "            if value < min1:\n",
    "                min2 = min1\n",
    "                key2 = key1\n",
    "                min1 = value\n",
    "                key1 = key\n",
    "            elif value < min2:\n",
    "                min2 = value\n",
    "                key2 = key\n",
    "        self.d[key1] = self.f_child\n",
    "        self.d[key2] = self.s_child\n",
    "    \n",
    "    def iteratee(self):\n",
    "        if self.goal is not None:\n",
    "            return\n",
    "        self.cal_total_fitness()\n",
    "        self.selection()\n",
    "        self.cross_over()\n",
    "        self.mutate()\n",
    "        self.chk_goal()\n",
    "        if self.goal is not None:\n",
    "            print(\"Goal State Reached\")\n",
    "        self.itt += 1\n",
    "            \n",
    "    def run_alg(self):\n",
    "        while self.goal is None:\n",
    "            self.iteratee()"
   ]
  },
  {
   "cell_type": "code",
   "execution_count": 12,
   "metadata": {},
   "outputs": [],
   "source": [
    "p = population()"
   ]
  },
  {
   "cell_type": "markdown",
   "metadata": {},
   "source": [
    "# Selection"
   ]
  },
  {
   "cell_type": "code",
   "execution_count": 22,
   "metadata": {},
   "outputs": [
    {
     "data": {
      "text/plain": [
       "0"
      ]
     },
     "execution_count": 22,
     "metadata": {},
     "output_type": "execute_result"
    }
   ],
   "source": [
    "random.randint(0,1)"
   ]
  },
  {
   "cell_type": "code",
   "execution_count": 7,
   "metadata": {},
   "outputs": [
    {
     "data": {
      "text/plain": [
       "True"
      ]
     },
     "execution_count": 7,
     "metadata": {},
     "output_type": "execute_result"
    }
   ],
   "source": [
    "goal = None\n",
    "goal is None"
   ]
  },
  {
   "cell_type": "code",
   "execution_count": 16,
   "metadata": {},
   "outputs": [],
   "source": [
    "p.iteratee()"
   ]
  },
  {
   "cell_type": "code",
   "execution_count": 19,
   "metadata": {},
   "outputs": [],
   "source": [
    "# P.run_alg was taking way too long, but all the steps of genetic algo are present there"
   ]
  },
  {
   "cell_type": "code",
   "execution_count": null,
   "metadata": {},
   "outputs": [],
   "source": []
  }
 ],
 "metadata": {
  "kernelspec": {
   "display_name": "Python 3 (ipykernel)",
   "language": "python",
   "name": "python3"
  },
  "language_info": {
   "codemirror_mode": {
    "name": "ipython",
    "version": 3
   },
   "file_extension": ".py",
   "mimetype": "text/x-python",
   "name": "python",
   "nbconvert_exporter": "python",
   "pygments_lexer": "ipython3",
   "version": "3.9.13"
  }
 },
 "nbformat": 4,
 "nbformat_minor": 4
}
