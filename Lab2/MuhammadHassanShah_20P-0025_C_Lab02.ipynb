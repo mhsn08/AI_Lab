{
 "cells": [
  {
   "cell_type": "code",
   "execution_count": 10,
   "metadata": {},
   "outputs": [
    {
     "name": "stdin",
     "output_type": "stream",
     "text": [
      "Enter location of vacuum (A/B):  b\n",
      "Enter status of room B (0/1):  1\n",
      "Enter status of room A (0/1):  1\n"
     ]
    },
    {
     "name": "stdout",
     "output_type": "stream",
     "text": [
      "location condition: {'B': '1', 'A': '1'}\n",
      "Location B cleaned. Cost: 1\n",
      "Moving to room A\n",
      "Location A cleaned. Cost: 3\n",
      "\n",
      "Goal state: {'B': '0', 'A': '0'}\n",
      "Performance measurement: 3\n"
     ]
    }
   ],
   "source": [
    "#INSTRUCTIONS\n",
    "#Enter LOCATION A/B in captial letters\n",
    "#Enter Status O/1 accordingly where 0 means CLEAN and 1 means DIRTY\n",
    "\n",
    "def vacuum_world():\n",
    "    # Initialize goal state with both rooms as clean\n",
    "    \n",
    "#     goal_state = {'A': '0', 'B': '0'}\n",
    "    cost = 0\n",
    "\n",
    "    # Get user input for vacuum location and room status\n",
    "    location = input(\"Enter location of vacuum (A/B): \").upper()\n",
    "    status = input(f\"Enter status of room {location} (0/1): \")\n",
    "    other_room = 'A' if location == 'B' else 'B'\n",
    "    other_status = input(f\"Enter status of room {other_room} (0/1): \")\n",
    "\n",
    "    goal_state = {location: status, other_room: other_status}\n",
    " \n",
    "    print(\"location condition:\", goal_state)\n",
    "\n",
    "    if status == '1':\n",
    "        # Vacuum is in a dirty room\n",
    "        goal_state[location] = '0'\n",
    "        cost += 1\n",
    "        print(f\"Location {location} cleaned. Cost: {cost}\")\n",
    "        \n",
    "        \n",
    "        if other_status == '1':\n",
    "            # Other room is dirty\n",
    "            print(f\"Moving to room {other_room}\")\n",
    "            cost += 1\n",
    "            goal_state[other_room] = '0'\n",
    "            cost += 1\n",
    "            print(f\"Location {other_room} cleaned. Cost: {cost}\")\n",
    "        else:\n",
    "            print(f\"Room {other_room} is already clean\")\n",
    "    else:\n",
    "        print(f\"Location {location} is already clean\")\n",
    "        \n",
    "        if other_status == '1':\n",
    "            # Other room is dirty\n",
    "            print(f\"Moving to room {other_room}\")\n",
    "            cost += 1\n",
    "            goal_state[other_room] = '0'\n",
    "            cost += 1\n",
    "            print(f\"Location {other_room} cleaned. Cost: {cost}\")\n",
    "        else:\n",
    "            print(f\"Room {other_room} is already clean\")\n",
    "\n",
    "    print(\"\\nGoal state:\", goal_state)\n",
    "    print(\"Performance measurement:\", cost)\n",
    "\n",
    "vacuum_world()"
   ]
  },
  {
   "cell_type": "markdown",
   "metadata": {},
   "source": [
    "# Task 1"
   ]
  },
  {
   "cell_type": "code",
   "execution_count": 18,
   "metadata": {},
   "outputs": [
    {
     "name": "stdin",
     "output_type": "stream",
     "text": [
      "Is there any smoke? (Y/N):  y\n",
      "What is temprature:  48\n"
     ]
    },
    {
     "name": "stdout",
     "output_type": "stream",
     "text": [
      "Water sprinkling\n",
      "Called Fire Department\n"
     ]
    },
    {
     "name": "stdin",
     "output_type": "stream",
     "text": [
      "Is there any smoke? (Y/N):  n\n",
      "What is temprature:  48\n",
      "Is there any smoke? (Y/N):  n\n",
      "What is temprature:  44\n"
     ]
    }
   ],
   "source": [
    "def water_system(status,water_status):\n",
    "    if status:\n",
    "        if water_status == False:                      # If this is printed once it won't print everytime\n",
    "            print(\"Water sprinkling\")\n",
    "        return True\n",
    "    else:\n",
    "        return False\n",
    "        \n",
    "def call_fire_dept(status,call_status):\n",
    "    if status:\n",
    "        if call_status == False:                      # If this is printed once it won't print everytime\n",
    "            print(\"Called Fire Department\")\n",
    "        return True\n",
    "    else:\n",
    "        return False\n",
    "\n",
    "def smoke_status(smoke):\n",
    "    if(smoke == \"Y\"):\n",
    "        return True\n",
    "    else:\n",
    "        return False\n",
    "    \n",
    "def temp_check(temp):\n",
    "    if(temp >= 45):\n",
    "        return True\n",
    "    else:\n",
    "        return False\n",
    "\n",
    "def fire_alarm():\n",
    "    \n",
    "    water_status = False                                           # These are the states that changes\n",
    "        \n",
    "    call_status = False\n",
    "\n",
    "    while(1):\n",
    "\n",
    "        smoke = input(\"Is there any smoke? (Y/N): \").upper()\n",
    "\n",
    "        temp = int(input(\"What is temprature: \"))\n",
    "        \n",
    "        water_status = water_system(smoke_status(smoke),water_status)\n",
    "\n",
    "        call_status = call_fire_dept(temp_check(temp),call_status)\n",
    "        \n",
    "        if water_status == False and call_status == False:\n",
    "            return\n",
    "\n",
    "fire_alarm()"
   ]
  },
  {
   "cell_type": "markdown",
   "metadata": {},
   "source": [
    "# Task 2"
   ]
  },
  {
   "cell_type": "code",
   "execution_count": 5,
   "metadata": {},
   "outputs": [
    {
     "name": "stdin",
     "output_type": "stream",
     "text": [
      "Enter limit of water for dry 20\n",
      "Enter limit of water for moist 30\n",
      "Enter Moisture Level 25\n"
     ]
    }
   ],
   "source": [
    "import logging\n",
    "\n",
    "class WateringSystem:\n",
    "    def __init__(self, dry_limit, moist_limit):\n",
    "        self.dry_limit = dry_limit\n",
    "        self.moist_limit = moist_limit\n",
    "        self.is_on = False\n",
    "        self.active = True\n",
    "        \n",
    "    def turn_on(self):\n",
    "        if self.active:\n",
    "            self.is_on = True\n",
    "            logging.info(\"Watering system turned on.\")\n",
    "        else:\n",
    "            logging.info(\"Watering system is not active.\")\n",
    "\n",
    "    def turn_off(self):\n",
    "        if self.active:\n",
    "            self.is_on = False\n",
    "            logging.info(\"Watering system turned off.\")\n",
    "        else:\n",
    "            logging.info(\"Watering system is not active.\")\n",
    "        \n",
    "    def deactivate(self):\n",
    "        self.active = False\n",
    "        \n",
    "    def activate(self):\n",
    "        self.active = True\n",
    "        \n",
    "    def control_water(self,moisture_level):\n",
    "        self.activate()\n",
    "        if moisture_level <= dry_limit and self.active:\n",
    "            self.turn_on()\n",
    "        elif moisture_level <= moist_limit and self.active:\n",
    "            self.turn_off()\n",
    "        else:\n",
    "            logging.info(\"Watering system Deactivated.\")\n",
    "            self.deactivate()\n",
    "            \n",
    "\n",
    "logging.basicConfig(filename=\"watering_system.log\", level=logging.INFO)\n",
    "try:\n",
    "    dry_limit = float(input(\"Enter limit of water for dry\"))\n",
    "    moist_limit = float(input(\"Enter limit of water for moist\"))\n",
    "    moist_level = float(input(\"Enter Moisture Level\"))\n",
    "    w_system = WateringSystem(dry_limit,moist_limit)\n",
    "    w_system.control_water(moist_level)\n",
    "except:\n",
    "    logging.exception(\"Invalid Inputs.\")"
   ]
  },
  {
   "cell_type": "code",
   "execution_count": null,
   "metadata": {},
   "outputs": [],
   "source": []
  }
 ],
 "metadata": {
  "kernelspec": {
   "display_name": "Python 3 (ipykernel)",
   "language": "python",
   "name": "python3"
  },
  "language_info": {
   "codemirror_mode": {
    "name": "ipython",
    "version": 3
   },
   "file_extension": ".py",
   "mimetype": "text/x-python",
   "name": "python",
   "nbconvert_exporter": "python",
   "pygments_lexer": "ipython3",
   "version": "3.9.13"
  }
 },
 "nbformat": 4,
 "nbformat_minor": 4
}
