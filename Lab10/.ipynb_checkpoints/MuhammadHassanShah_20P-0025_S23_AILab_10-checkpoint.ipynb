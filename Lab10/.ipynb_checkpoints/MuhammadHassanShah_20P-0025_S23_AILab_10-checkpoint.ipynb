{
 "cells": [
  {
   "cell_type": "code",
   "execution_count": 1,
   "id": "97dca960-0d06-4bc7-baea-5534feb23a37",
   "metadata": {},
   "outputs": [],
   "source": [
    "romania_graph = {\n",
    "    'Arad': [('Zerind', 75), ('Timisoara', 118), ('Sibiu', 140)],\n",
    "    'Zerind': [('Oradea', 71), ('Arad', 75)],\n",
    "    'Oradea': [('Sibiu', 151), ('Zerind', 71)],\n",
    "    'Timisoara': [('Arad', 118), ('Lugoj', 111)],\n",
    "    'Lugoj': [('Timisoara', 111), ('Mehadia', 70)],\n",
    "    'Mehadia': [('Lugoj', 70), ('Drobeta', 75)],\n",
    "    'Drobeta': [('Mehadia', 75), ('Craiova', 120)],\n",
    "    'Craiova': [('Drobeta', 120), ('Rimnicu Vilcea', 146), ('Pitesti', 138)],\n",
    "    'Rimnicu Vilcea': [('Craiova', 146), ('Pitesti', 97), ('Sibiu', 80)],\n",
    "    'Sibiu': [('Arad', 140), ('Oradea', 151), ('Rimnicu Vilcea', 80), ('Fagaras', 99)],\n",
    "    'Fagaras': [('Sibiu', 99), ('Bucharest', 211)],\n",
    "    'Pitesti': [('Rimnicu Vilcea', 97), ('Craiova', 138), ('Bucharest', 101)],\n",
    "    'Bucharest': [('Fagaras', 211), ('Pitesti', 101), ('Giurgiu', 90)],\n",
    "    'Giurgiu': [('Bucharest', 90)]\n",
    "}\n",
    "\n",
    "heuristics = {\n",
    "    'Arad': 366, 'Bucharest': 0, 'Craiova': 160, 'Drobeta': 242,\n",
    "    'Fagaras': 176, 'Giurgiu': 77, 'Lugoj': 244, 'Mehadia': 241,\n",
    "    'Oradea': 380, 'Pitesti': 100, 'Rimnicu Vilcea': 193,\n",
    "    'Sibiu': 253, 'Timisoara': 329, 'Zerind': 374\n",
    "}"
   ]
  },
  {
   "cell_type": "code",
   "execution_count": 2,
   "id": "8fd26602-eddc-4989-9bce-ac43f8737b2a",
   "metadata": {},
   "outputs": [],
   "source": [
    "def init_nodes(self,S):\n",
    "    self.openN = [S]\n",
    "    self.closedN = []\n",
    "    self.foundGoal = False"
   ]
  },
  {
   "cell_type": "code",
   "execution_count": 3,
   "id": "7e684ce6-51fc-402e-8577-4f31df9fcc71",
   "metadata": {},
   "outputs": [],
   "source": [
    "def expandN(self,N):\n",
    "    for i in romania_graph[N]:\n",
    "        if i[0] not in self.openN and i[0] not in self.closedN:\n",
    "            self.openN.append(i[0])\n",
    "    self.openN.remove(N)\n",
    "    self.closedN.append(N)\n",
    "    if self.G in self.openN:\n",
    "        self.closedN.append(self.G)\n",
    "        self.foundGoal = True"
   ]
  },
  {
   "cell_type": "code",
   "execution_count": 4,
   "id": "78be217d-0877-471d-9844-5833b9adbdf8",
   "metadata": {},
   "outputs": [],
   "source": [
    "def find_shortest_h(self):\n",
    "    low = 1000\n",
    "    selected = None\n",
    "    for i in self.openN:\n",
    "        if heuristics[i] < low:\n",
    "            low = heuristics[i]\n",
    "            selected = i\n",
    "    return selected"
   ]
  },
  {
   "cell_type": "code",
   "execution_count": 5,
   "id": "f7c46ffd-61c9-401a-911f-1d5de06e1493",
   "metadata": {},
   "outputs": [],
   "source": [
    "def iteratee(self):\n",
    "    i = 0\n",
    "    while(len(self.openN)>0):\n",
    "        self.expandN(self.find_shortest_h())\n",
    "        if self.foundGoal == True:\n",
    "            return self.closedN\n",
    "        print(\"Iteration:\",i)\n",
    "        print(self.openN)\n",
    "        print(self.closedN)\n",
    "        print()\n",
    "        i += 1\n",
    "    return False"
   ]
  },
  {
   "cell_type": "code",
   "execution_count": 6,
   "id": "383b5662-2172-4f5e-9e05-7b28bfa47653",
   "metadata": {},
   "outputs": [],
   "source": [
    "def find_path(self,S):\n",
    "    self.init_nodes(S)\n",
    "    return self.iteratee()"
   ]
  },
  {
   "cell_type": "code",
   "execution_count": 7,
   "id": "7da6449a-74e1-4058-9003-087eb22fc591",
   "metadata": {},
   "outputs": [],
   "source": [
    "class BFS:\n",
    "    def __init__(self):\n",
    "        self.G = 'Bucharest'"
   ]
  },
  {
   "cell_type": "code",
   "execution_count": 8,
   "id": "9202bc80-35d2-4a25-a4c5-ac2ba57dd67f",
   "metadata": {},
   "outputs": [],
   "source": [
    "def find_coast(self,L):\n",
    "    coast = 0\n",
    "    for i in L[1:]:\n",
    "        coast += heuristics[i]\n",
    "    return coast"
   ]
  },
  {
   "cell_type": "code",
   "execution_count": 9,
   "id": "46825f26-b5c2-44b7-a65a-08d0563e4ad9",
   "metadata": {},
   "outputs": [],
   "source": [
    "BFS.init_nodes = init_nodes"
   ]
  },
  {
   "cell_type": "code",
   "execution_count": 10,
   "id": "5185af9b-76a3-4932-9a36-f90762292fcd",
   "metadata": {},
   "outputs": [],
   "source": [
    "BFS.expandN = expandN"
   ]
  },
  {
   "cell_type": "code",
   "execution_count": 11,
   "id": "420831ee-6ed1-41a7-b1e9-771e72468a83",
   "metadata": {},
   "outputs": [],
   "source": [
    "BFS.find_shortest_h = find_shortest_h"
   ]
  },
  {
   "cell_type": "code",
   "execution_count": 12,
   "id": "6649dcdf-c207-4c9d-8279-8020c74f18b6",
   "metadata": {},
   "outputs": [],
   "source": [
    "BFS.iteratee = iteratee"
   ]
  },
  {
   "cell_type": "code",
   "execution_count": 13,
   "id": "9b0bba51-47c0-4239-9387-87fc9319945f",
   "metadata": {},
   "outputs": [],
   "source": [
    "BFS.find_path = find_path"
   ]
  },
  {
   "cell_type": "code",
   "execution_count": 14,
   "id": "64c33061-c9ad-4057-900a-5f223818a987",
   "metadata": {},
   "outputs": [],
   "source": [
    "BFS.find_coast = find_coast"
   ]
  },
  {
   "cell_type": "code",
   "execution_count": 15,
   "id": "1831fda2-8469-488c-81ac-4743589dde8c",
   "metadata": {},
   "outputs": [
    {
     "name": "stdout",
     "output_type": "stream",
     "text": [
      "Iteration: 0\n",
      "['Zerind', 'Timisoara', 'Sibiu']\n",
      "['Arad']\n",
      "\n",
      "Iteration: 1\n",
      "['Zerind', 'Timisoara', 'Oradea', 'Rimnicu Vilcea', 'Fagaras']\n",
      "['Arad', 'Sibiu']\n",
      "\n"
     ]
    }
   ],
   "source": [
    "bfs = BFS()\n",
    "g = bfs.find_path('Arad')"
   ]
  },
  {
   "cell_type": "code",
   "execution_count": 16,
   "id": "263051ea-a006-446f-9cb6-01fc12727fd8",
   "metadata": {},
   "outputs": [
    {
     "name": "stdout",
     "output_type": "stream",
     "text": [
      "Path: ['Arad', 'Sibiu', 'Fagaras', 'Bucharest']\n",
      "Coast: 429\n"
     ]
    }
   ],
   "source": [
    "if g == False:\n",
    "    print(\"Path cannot be found\")\n",
    "else:\n",
    "    coast = bfs.find_coast(g)\n",
    "    print(\"Path:\",g)\n",
    "    print(\"Coast:\",coast)"
   ]
  },
  {
   "cell_type": "code",
   "execution_count": 17,
   "id": "c798b7ed-8b89-4837-821d-011f0af4307d",
   "metadata": {},
   "outputs": [
    {
     "name": "stdout",
     "output_type": "stream",
     "text": [
      "Iteration: 0\n",
      "['Timisoara', 'Mehadia']\n",
      "['Lugoj']\n",
      "\n",
      "Iteration: 1\n",
      "['Timisoara', 'Drobeta']\n",
      "['Lugoj', 'Mehadia']\n",
      "\n",
      "Iteration: 2\n",
      "['Timisoara', 'Craiova']\n",
      "['Lugoj', 'Mehadia', 'Drobeta']\n",
      "\n",
      "Iteration: 3\n",
      "['Timisoara', 'Rimnicu Vilcea', 'Pitesti']\n",
      "['Lugoj', 'Mehadia', 'Drobeta', 'Craiova']\n",
      "\n",
      "Path: ['Lugoj', 'Mehadia', 'Drobeta', 'Craiova', 'Pitesti', 'Bucharest']\n",
      "Coast: 743\n"
     ]
    }
   ],
   "source": [
    "g = bfs.find_path('Lugoj')\n",
    "if g == False:\n",
    "    print(\"Path cannot be found\")\n",
    "else:\n",
    "    coast = bfs.find_coast(g)\n",
    "    print(\"Path:\",g)\n",
    "    print(\"Coast:\",coast)"
   ]
  },
  {
   "cell_type": "code",
   "execution_count": null,
   "id": "50208429-2d1b-44b6-ab5b-36594307863c",
   "metadata": {},
   "outputs": [],
   "source": []
  }
 ],
 "metadata": {
  "kernelspec": {
   "display_name": "Python 3 (ipykernel)",
   "language": "python",
   "name": "python3"
  },
  "language_info": {
   "codemirror_mode": {
    "name": "ipython",
    "version": 3
   },
   "file_extension": ".py",
   "mimetype": "text/x-python",
   "name": "python",
   "nbconvert_exporter": "python",
   "pygments_lexer": "ipython3",
   "version": "3.9.13"
  }
 },
 "nbformat": 4,
 "nbformat_minor": 5
}
